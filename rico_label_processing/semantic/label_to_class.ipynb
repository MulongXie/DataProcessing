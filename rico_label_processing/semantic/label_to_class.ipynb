{
 "cells": [
  {
   "cell_type": "code",
   "execution_count": 1,
   "metadata": {},
   "outputs": [],
   "source": [
    "import json\n",
    "import os"
   ]
  },
  {
   "cell_type": "code",
   "execution_count": 2,
   "metadata": {},
   "outputs": [],
   "source": [
    "def collect_label(tree, label2class, suspend):\n",
    "    if 'componentLabel' in tree:\n",
    "        if tree['componentLabel'] not in label2class:\n",
    "            label2class[tree['componentLabel']] = set()\n",
    "        label2class[tree['componentLabel']].add(tree['class'])\n",
    "    else:\n",
    "        suspend.append(tree['class'])\n",
    "    if 'children' in tree:\n",
    "        for child in tree['children']:\n",
    "            collect_label(child, label2class, suspend)"
   ]
  },
  {
   "cell_type": "code",
   "execution_count": 3,
   "metadata": {},
   "outputs": [],
   "source": [
    "def main():\n",
    "    start = 0  # start point\n",
    "    end = 100000\n",
    "    label_root = 'E:\\\\Mulong\\\\Datasets\\\\gui\\\\rico\\\\semantic_annotations\\\\'\n",
    "    \n",
    "    label2class = {}\n",
    "    suspend = []\n",
    "    for index in range(start, end):\n",
    "        json_path = label_root + str(index) + '.json'\n",
    "        if os.path.exists(json_path):\n",
    "            print(json_path)\n",
    "            tree = json.load(open(json_path, encoding='utf8'))\n",
    "            collect_label(tree, label2class, suspend)\n",
    "    return label2class, suspend"
   ]
  },
  {
   "cell_type": "code",
   "execution_count": null,
   "metadata": {},
   "outputs": [],
   "source": [
    "label2class, suspend = main()\n",
    "for k in label2class:\n",
    "    label2class[k] = list(label2class[k])\n",
    "# json.dump(label2class, open('label_to_class.json', 'w'), indent=4)"
   ]
  },
  {
   "cell_type": "code",
   "execution_count": 7,
   "metadata": {
    "scrolled": true
   },
   "outputs": [
    {
     "data": {
      "text/plain": [
       "dict_keys(['Video', 'Date Picker', 'Advertisement', 'Multi-Tab', 'Bottom Navigation', 'Drawer', 'Modal', 'Background Image', 'Number Stepper', 'Pager Indicator', 'Text Button', 'Image', 'Input', 'On/Off Switch', 'Button Bar', 'Slider', 'Toolbar', 'Radio Button', 'Card', 'Icon', 'Text', 'Checkbox', 'Map View', 'Web View', 'List Item'])"
      ]
     },
     "execution_count": 7,
     "metadata": {},
     "output_type": "execute_result"
    }
   ],
   "source": [
    "label2class.keys()"
   ]
  }
 ],
 "metadata": {
  "kernelspec": {
   "display_name": "Python 3",
   "language": "python",
   "name": "python3"
  },
  "language_info": {
   "codemirror_mode": {
    "name": "ipython",
    "version": 3
   },
   "file_extension": ".py",
   "mimetype": "text/x-python",
   "name": "python",
   "nbconvert_exporter": "python",
   "pygments_lexer": "ipython3",
   "version": "3.5.6"
  }
 },
 "nbformat": 4,
 "nbformat_minor": 2
}
