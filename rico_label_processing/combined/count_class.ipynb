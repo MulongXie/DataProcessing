{
 "cells": [
  {
   "cell_type": "code",
   "execution_count": 1,
   "metadata": {},
   "outputs": [],
   "source": [
    "import json\n",
    "import os"
   ]
  },
  {
   "cell_type": "code",
   "execution_count": 2,
   "metadata": {},
   "outputs": [],
   "source": [
    "def simplify_objects(root):\n",
    "    def iter_kids(obj):\n",
    "        if obj['bounds'][2] - obj['bounds'][0] == 0 or obj['bounds'][3] - obj['bounds'][1] == 0:\n",
    "            return\n",
    "        extracted_obj = {'class':obj['class'], 'bounds':[int(b) for b in obj['bounds']]}\n",
    "        class_set.add(obj['class'])\n",
    "        class_list.append(obj['class'])\n",
    "        if 'children' in obj and len(obj['children']) > 0:\n",
    "            extracted_obj['children'] = []\n",
    "            children = obj['children']\n",
    "            for child in children:\n",
    "                if child is None:\n",
    "                    continue\n",
    "                kids = iter_kids(child)\n",
    "                if kids is not None:\n",
    "                    extracted_obj['children'].append(kids)\n",
    "        return extracted_obj\n",
    "\n",
    "    if 'activity' in root:\n",
    "        root = root['activity']['root']\n",
    "    objects = iter_kids(root)\n",
    "    return objects"
   ]
  },
  {
   "cell_type": "code",
   "execution_count": null,
   "metadata": {},
   "outputs": [],
   "source": [
    "input_root = 'E:\\Mulong\\Datasets\\gui\\\\rico\\combined\\\\simplified\\\\'\n",
    "start = 0  # start point\n",
    "end = 100000\n",
    "class_set = set()\n",
    "class_list = []\n",
    "for index in range(start, end):\n",
    "    json_path = input_root + str(index) + '.json'\n",
    "    if os.path.exists(json_path):\n",
    "        print(json_path)\n",
    "        try:\n",
    "            jfile = json.load(open(json_path, encoding=\"utf8\"))\n",
    "            objs = simplify_objects(jfile)\n",
    "        except:\n",
    "            continue"
   ]
  },
  {
   "cell_type": "code",
   "execution_count": 4,
   "metadata": {},
   "outputs": [],
   "source": [
    "from collections import Counter\n",
    "counter = Counter(class_list)\n",
    "counter = sorted(list(counter.items()), key=lambda x: x[1], reverse=True)"
   ]
  },
  {
   "cell_type": "code",
   "execution_count": null,
   "metadata": {},
   "outputs": [],
   "source": [
    "import pandas as pd\n",
    "class_csv = pd.DataFrame({'class_name':[c[0] for c in counter], 'number':[c[1] for c in counter]})\n",
    "print(class_csv)\n",
    "# class_csv.to_csv('rico_class_org.csv')"
   ]
  },
  {
   "cell_type": "code",
   "execution_count": 16,
   "metadata": {},
   "outputs": [
    {
     "name": "stdout",
     "output_type": "stream",
     "text": [
      "1095 0.9282828599749849\n"
     ]
    }
   ],
   "source": [
    "class_selected = class_csv[class_csv['number'] > 100]\n",
    "print(len(class_selected), class_selected['number'].sum() / class_csv['number'].sum())\n",
    "class_selected.to_csv('rico_class_select.csv')"
   ]
  },
  {
   "cell_type": "code",
   "execution_count": null,
   "metadata": {},
   "outputs": [],
   "source": []
  }
 ],
 "metadata": {
  "kernelspec": {
   "display_name": "Python 3",
   "language": "python",
   "name": "python3"
  },
  "language_info": {
   "codemirror_mode": {
    "name": "ipython",
    "version": 3
   },
   "file_extension": ".py",
   "mimetype": "text/x-python",
   "name": "python",
   "nbconvert_exporter": "python",
   "pygments_lexer": "ipython3",
   "version": "3.5.6"
  }
 },
 "nbformat": 4,
 "nbformat_minor": 2
}
